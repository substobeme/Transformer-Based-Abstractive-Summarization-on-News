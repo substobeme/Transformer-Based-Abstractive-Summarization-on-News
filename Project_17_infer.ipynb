{
 "cells": [
  {
   "cell_type": "code",
   "execution_count": 1,
   "metadata": {},
   "outputs": [
    {
     "name": "stdout",
     "output_type": "stream",
     "text": [
      "Collecting rouge-score\n",
      "  Downloading rouge_score-0.1.2.tar.gz (17 kB)\n",
      "doneing metadata (setup.py) ... \u001b[?25l\n",
      "Collecting absl-py\n",
      "  Downloading absl_py-2.2.2-py3-none-any.whl (135 kB)\n",
      "\u001b[2K     \u001b[90m━━━━━━━━━━━━━━━━━━━━━━━━━━━━━━━━━━━━━━━\u001b[0m \u001b[32m135.6/135.6 KB\u001b[0m \u001b[31m5.2 MB/s\u001b[0m eta \u001b[36m0:00:00\u001b[0m\n",
      "Collecting nltk\n",
      "  Downloading nltk-3.9.1-py3-none-any.whl (1.5 MB)\n",
      "\u001b[2K     \u001b[90m━━━━━━━━━━━━━━━━━━━━━━━━━━━━━━━━━━━━━━━━\u001b[0m \u001b[32m1.5/1.5 MB\u001b[0m \u001b[31m9.7 MB/s\u001b[0m eta \u001b[36m0:00:00\u001b[0m:00:01\u001b[0m0:01\u001b[0m\n",
      "\u001b[?25hRequirement already satisfied: numpy in /venv/main/lib/python3.10/site-packages (from rouge-score) (2.1.2)\n",
      "Requirement already satisfied: six>=1.14.0 in /venv/main/lib/python3.10/site-packages (from rouge-score) (1.17.0)\n",
      "Requirement already satisfied: tqdm in /venv/main/lib/python3.10/site-packages (from nltk->rouge-score) (4.67.1)\n",
      "Collecting regex>=2021.8.3\n",
      "  Downloading regex-2024.11.6-cp310-cp310-manylinux_2_17_x86_64.manylinux2014_x86_64.whl (781 kB)\n",
      "\u001b[2K     \u001b[90m━━━━━━━━━━━━━━━━━━━━━━━━━━━━━━━━━━━━━━\u001b[0m \u001b[32m781.7/781.7 KB\u001b[0m \u001b[31m14.8 MB/s\u001b[0m eta \u001b[36m0:00:00\u001b[0ma \u001b[36m0:00:01\u001b[0m\n",
      "Collecting joblib\n",
      "  Downloading joblib-1.4.2-py3-none-any.whl (301 kB)\n",
      "\u001b[2K     \u001b[90m━━━━━━━━━━━━━━━━━━━━━━━━━━━━━━━━━━━━━━\u001b[0m \u001b[32m301.8/301.8 KB\u001b[0m \u001b[31m19.5 MB/s\u001b[0m eta \u001b[36m0:00:00\u001b[0m\n",
      "Collecting click\n",
      "  Downloading click-8.1.8-py3-none-any.whl (98 kB)\n",
      "\u001b[2K     \u001b[90m━━━━━━━━━━━━━━━━━━━━━━━━━━━━━━━━━━━━━━━━\u001b[0m \u001b[32m98.2/98.2 KB\u001b[0m \u001b[31m36.0 MB/s\u001b[0m eta \u001b[36m0:00:00\u001b[0m\n",
      "\u001b[?25hBuilding wheels for collected packages: rouge-score\n",
      "doneng wheel for rouge-score (setup.py) ... \u001b[?25l\n",
      "\u001b[?25h  Created wheel for rouge-score: filename=rouge_score-0.1.2-py3-none-any.whl size=24951 sha256=d3d17f563dcad511391747d1b31c470b78e72b42625c938cb90d7ffca453e63f\n",
      "  Stored in directory: /root/.cache/pip/wheels/5f/dd/89/461065a73be61a532ff8599a28e9beef17985c9e9c31e541b4\n",
      "Successfully built rouge-score\n",
      "Installing collected packages: regex, joblib, click, absl-py, nltk, rouge-score\n",
      "Successfully installed absl-py-2.2.2 click-8.1.8 joblib-1.4.2 nltk-3.9.1 regex-2024.11.6 rouge-score-0.1.2\n"
     ]
    }
   ],
   "source": [
    "!pip install rouge-score"
   ]
  },
  {
   "cell_type": "code",
   "execution_count": 2,
   "metadata": {},
   "outputs": [
    {
     "name": "stdout",
     "output_type": "stream",
     "text": [
      "Collecting datasets\n",
      "  Downloading datasets-3.5.0-py3-none-any.whl (491 kB)\n",
      "\u001b[2K     \u001b[90m━━━━━━━━━━━━━━━━━━━━━━━━━━━━━━━━━━━━━━━\u001b[0m \u001b[32m491.2/491.2 KB\u001b[0m \u001b[31m9.5 MB/s\u001b[0m eta \u001b[36m0:00:00\u001b[0ma \u001b[36m0:00:01\u001b[0m\n",
      "Requirement already satisfied: requests>=2.32.2 in /venv/main/lib/python3.10/site-packages (from datasets) (2.32.3)\n",
      "Collecting dill<0.3.9,>=0.3.0\n",
      "  Downloading dill-0.3.8-py3-none-any.whl (116 kB)\n",
      "\u001b[2K     \u001b[90m━━━━━━━━━━━━━━━━━━━━━━━━━━━━━━━━━━━━━━\u001b[0m \u001b[32m116.3/116.3 KB\u001b[0m \u001b[31m60.2 MB/s\u001b[0m eta \u001b[36m0:00:00\u001b[0m\n",
      "Collecting pandas\n",
      "  Downloading pandas-2.2.3-cp310-cp310-manylinux_2_17_x86_64.manylinux2014_x86_64.whl (13.1 MB)\n",
      "\u001b[2K     \u001b[90m━━━━━━━━━━━━━━━━━━━━━━━━━━━━━━━━━━━━━━━━\u001b[0m \u001b[32m13.1/13.1 MB\u001b[0m \u001b[31m96.7 MB/s\u001b[0m eta \u001b[36m0:00:00\u001b[0m00:01\u001b[0m00:01\u001b[0m\n",
      "\u001b[?25hRequirement already satisfied: packaging in /venv/main/lib/python3.10/site-packages (from datasets) (24.2)\n",
      "Requirement already satisfied: pyyaml>=5.1 in /venv/main/lib/python3.10/site-packages (from datasets) (6.0.2)\n",
      "Collecting pyarrow>=15.0.0\n",
      "  Downloading pyarrow-19.0.1-cp310-cp310-manylinux_2_28_x86_64.whl (42.1 MB)\n",
      "\u001b[2K     \u001b[90m━━━━━━━━━━━━━━━━━━━━━━━━━━━━━━━━━━━━━━━━\u001b[0m \u001b[32m42.1/42.1 MB\u001b[0m \u001b[31m47.7 MB/s\u001b[0m eta \u001b[36m0:00:00\u001b[0m00:01\u001b[0m00:01\u001b[0m\n",
      "Requirement already satisfied: filelock in /venv/main/lib/python3.10/site-packages (from datasets) (3.17.0)\n",
      "Collecting aiohttp\n",
      "  Downloading aiohttp-3.11.18-cp310-cp310-manylinux_2_17_x86_64.manylinux2014_x86_64.whl (1.6 MB)\n",
      "\u001b[2K     \u001b[90m━━━━━━━━━━━━━━━━━━━━━━━━━━━━━━━━━━━━━━━━\u001b[0m \u001b[32m1.6/1.6 MB\u001b[0m \u001b[31m93.7 MB/s\u001b[0m eta \u001b[36m0:00:00\u001b[0m\n",
      "\u001b[?25hRequirement already satisfied: huggingface-hub>=0.24.0 in /venv/main/lib/python3.10/site-packages (from datasets) (0.29.3)\n",
      "Collecting xxhash\n",
      "  Downloading xxhash-3.5.0-cp310-cp310-manylinux_2_17_x86_64.manylinux2014_x86_64.whl (194 kB)\n",
      "\u001b[2K     \u001b[90m━━━━━━━━━━━━━━━━━━━━━━━━━━━━━━━━━━━━━━\u001b[0m \u001b[32m194.1/194.1 KB\u001b[0m \u001b[31m90.7 MB/s\u001b[0m eta \u001b[36m0:00:00\u001b[0m\n",
      "Collecting multiprocess<0.70.17\n",
      "  Downloading multiprocess-0.70.16-py310-none-any.whl (134 kB)\n",
      "\u001b[2K     \u001b[90m━━━━━━━━━━━━━━━━━━━━━━━━━━━━━━━━━━━━━━\u001b[0m \u001b[32m134.8/134.8 KB\u001b[0m \u001b[31m74.7 MB/s\u001b[0m eta \u001b[36m0:00:00\u001b[0m\n",
      "\u001b[?25hRequirement already satisfied: numpy>=1.17 in /venv/main/lib/python3.10/site-packages (from datasets) (2.1.2)\n",
      "Collecting fsspec[http]<=2024.12.0,>=2023.1.0\n",
      "  Downloading fsspec-2024.12.0-py3-none-any.whl (183 kB)\n",
      "\u001b[2K     \u001b[90m━━━━━━━━━━━━━━━━━━━━━━━━━━━━━━━━━━━━━━\u001b[0m \u001b[32m183.9/183.9 KB\u001b[0m \u001b[31m93.6 MB/s\u001b[0m eta \u001b[36m0:00:00\u001b[0m\n",
      "\u001b[?25hRequirement already satisfied: tqdm>=4.66.3 in /venv/main/lib/python3.10/site-packages (from datasets) (4.67.1)\n",
      "Collecting yarl<2.0,>=1.17.0\n",
      "  Downloading yarl-1.20.0-cp310-cp310-manylinux_2_17_x86_64.manylinux2014_x86_64.whl (333 kB)\n",
      "\u001b[2K     \u001b[90m━━━━━━━━━━━━━━━━━━━━━━━━━━━━━━━━━━━━━\u001b[0m \u001b[32m333.9/333.9 KB\u001b[0m \u001b[31m114.7 MB/s\u001b[0m eta \u001b[36m0:00:00\u001b[0m\n",
      "Collecting propcache>=0.2.0\n",
      "  Downloading propcache-0.3.1-cp310-cp310-manylinux_2_17_x86_64.manylinux2014_x86_64.whl (206 kB)\n",
      "\u001b[2K     \u001b[90m━━━━━━━━━━━━━━━━━━━━━━━━━━━━━━━━━━━━━━\u001b[0m \u001b[32m206.6/206.6 KB\u001b[0m \u001b[31m75.2 MB/s\u001b[0m eta \u001b[36m0:00:00\u001b[0m\n",
      "Collecting aiosignal>=1.1.2\n",
      "  Downloading aiosignal-1.3.2-py2.py3-none-any.whl (7.6 kB)\n",
      "Collecting attrs>=17.3.0\n",
      "  Downloading attrs-25.3.0-py3-none-any.whl (63 kB)\n",
      "\u001b[2K     \u001b[90m━━━━━━━━━━━━━━━━━━━━━━━━━━━━━━━━━━━━━━━━\u001b[0m \u001b[32m63.8/63.8 KB\u001b[0m \u001b[31m37.3 MB/s\u001b[0m eta \u001b[36m0:00:00\u001b[0m\n",
      "Collecting async-timeout<6.0,>=4.0\n",
      "  Downloading async_timeout-5.0.1-py3-none-any.whl (6.2 kB)\n",
      "Collecting aiohappyeyeballs>=2.3.0\n",
      "  Downloading aiohappyeyeballs-2.6.1-py3-none-any.whl (15 kB)\n",
      "Collecting multidict<7.0,>=4.5\n",
      "  Downloading multidict-6.4.3-cp310-cp310-manylinux_2_17_x86_64.manylinux2014_x86_64.whl (219 kB)\n",
      "\u001b[2K     \u001b[90m━━━━━━━━━━━━━━━━━━━━━━━━━━━━━━━━━━━━━━\u001b[0m \u001b[32m219.8/219.8 KB\u001b[0m \u001b[31m98.4 MB/s\u001b[0m eta \u001b[36m0:00:00\u001b[0m\n",
      "Collecting frozenlist>=1.1.1\n",
      "  Downloading frozenlist-1.6.0-cp310-cp310-manylinux_2_5_x86_64.manylinux1_x86_64.manylinux_2_17_x86_64.manylinux2014_x86_64.whl (287 kB)\n",
      "\u001b[2K     \u001b[90m━━━━━━━━━━━━━━━━━━━━━━━━━━━━━━━━━━━━━\u001b[0m \u001b[32m287.3/287.3 KB\u001b[0m \u001b[31m114.4 MB/s\u001b[0m eta \u001b[36m0:00:00\u001b[0m\n",
      "Requirement already satisfied: typing-extensions>=3.7.4.3 in /venv/main/lib/python3.10/site-packages (from huggingface-hub>=0.24.0->datasets) (4.12.2)\n",
      "Requirement already satisfied: idna<4,>=2.5 in /venv/main/lib/python3.10/site-packages (from requests>=2.32.2->datasets) (3.10)\n",
      "Requirement already satisfied: certifi>=2017.4.17 in /venv/main/lib/python3.10/site-packages (from requests>=2.32.2->datasets) (2025.1.31)\n",
      "Requirement already satisfied: urllib3<3,>=1.21.1 in /venv/main/lib/python3.10/site-packages (from requests>=2.32.2->datasets) (2.3.0)\n",
      "Requirement already satisfied: charset-normalizer<4,>=2 in /venv/main/lib/python3.10/site-packages (from requests>=2.32.2->datasets) (3.4.1)\n",
      "Collecting pytz>=2020.1\n",
      "  Downloading pytz-2025.2-py2.py3-none-any.whl (509 kB)\n",
      "\u001b[2K     \u001b[90m━━━━━━━━━━━━━━━━━━━━━━━━━━━━━━━━━━━━━━\u001b[0m \u001b[32m509.2/509.2 KB\u001b[0m \u001b[31m91.4 MB/s\u001b[0m eta \u001b[36m0:00:00\u001b[0m\n",
      "\u001b[?25hRequirement already satisfied: python-dateutil>=2.8.2 in /venv/main/lib/python3.10/site-packages (from pandas->datasets) (2.9.0.post0)\n",
      "Collecting tzdata>=2022.7\n",
      "  Downloading tzdata-2025.2-py2.py3-none-any.whl (347 kB)\n",
      "\u001b[2K     \u001b[90m━━━━━━━━━━━━━━━━━━━━━━━━━━━━━━━━━━━━━\u001b[0m \u001b[32m347.8/347.8 KB\u001b[0m \u001b[31m136.2 MB/s\u001b[0m eta \u001b[36m0:00:00\u001b[0m\n",
      "Requirement already satisfied: six>=1.5 in /venv/main/lib/python3.10/site-packages (from python-dateutil>=2.8.2->pandas->datasets) (1.17.0)\n",
      "Installing collected packages: pytz, xxhash, tzdata, pyarrow, propcache, multidict, fsspec, frozenlist, dill, attrs, async-timeout, aiohappyeyeballs, yarl, pandas, multiprocess, aiosignal, aiohttp, datasets\n",
      "  Attempting uninstall: fsspec\n",
      "    Found existing installation: fsspec 2025.3.0\n",
      "    Uninstalling fsspec-2025.3.0:\n",
      "      Successfully uninstalled fsspec-2025.3.0\n",
      "Successfully installed aiohappyeyeballs-2.6.1 aiohttp-3.11.18 aiosignal-1.3.2 async-timeout-5.0.1 attrs-25.3.0 datasets-3.5.0 dill-0.3.8 frozenlist-1.6.0 fsspec-2024.12.0 multidict-6.4.3 multiprocess-0.70.16 pandas-2.2.3 propcache-0.3.1 pyarrow-19.0.1 pytz-2025.2 tzdata-2025.2 xxhash-3.5.0 yarl-1.20.0\n",
      "Collecting transformers\n",
      "  Downloading transformers-4.51.3-py3-none-any.whl (10.4 MB)\n",
      "\u001b[2K     \u001b[90m━━━━━━━━━━━━━━━━━━━━━━━━━━━━━━━━━━━━━━━━\u001b[0m \u001b[32m10.4/10.4 MB\u001b[0m \u001b[31m75.5 MB/s\u001b[0m eta \u001b[36m0:00:00\u001b[0m00:01\u001b[0m0:01\u001b[0m\n",
      "Requirement already satisfied: tqdm>=4.27 in /venv/main/lib/python3.10/site-packages (from transformers) (4.67.1)\n",
      "Requirement already satisfied: numpy>=1.17 in /venv/main/lib/python3.10/site-packages (from transformers) (2.1.2)\n",
      "Collecting safetensors>=0.4.3\n",
      "  Downloading safetensors-0.5.3-cp38-abi3-manylinux_2_17_x86_64.manylinux2014_x86_64.whl (471 kB)\n",
      "\u001b[2K     \u001b[90m━━━━━━━━━━━━━━━━━━━━━━━━━━━━━━━━━━━━━\u001b[0m \u001b[32m471.6/471.6 KB\u001b[0m \u001b[31m135.0 MB/s\u001b[0m eta \u001b[36m0:00:00\u001b[0m\n",
      "\u001b[?25hRequirement already satisfied: pyyaml>=5.1 in /venv/main/lib/python3.10/site-packages (from transformers) (6.0.2)\n",
      "Collecting tokenizers<0.22,>=0.21\n",
      "  Downloading tokenizers-0.21.1-cp39-abi3-manylinux_2_17_x86_64.manylinux2014_x86_64.whl (3.0 MB)\n",
      "\u001b[2K     \u001b[90m━━━━━━━━━━━━━━━━━━━━━━━━━━━━━━━━━━━━━━━━\u001b[0m \u001b[32m3.0/3.0 MB\u001b[0m \u001b[31m170.2 MB/s\u001b[0m eta \u001b[36m0:00:00\u001b[0m\n",
      "\u001b[?25hRequirement already satisfied: regex!=2019.12.17 in /venv/main/lib/python3.10/site-packages (from transformers) (2024.11.6)\n",
      "Collecting huggingface-hub<1.0,>=0.30.0\n",
      "  Downloading huggingface_hub-0.30.2-py3-none-any.whl (481 kB)\n",
      "\u001b[2K     \u001b[90m━━━━━━━━━━━━━━━━━━━━━━━━━━━━━━━━━━━━━━\u001b[0m \u001b[32m481.4/481.4 KB\u001b[0m \u001b[31m73.1 MB/s\u001b[0m eta \u001b[36m0:00:00\u001b[0m\n",
      "\u001b[?25hRequirement already satisfied: packaging>=20.0 in /venv/main/lib/python3.10/site-packages (from transformers) (24.2)\n",
      "Requirement already satisfied: requests in /venv/main/lib/python3.10/site-packages (from transformers) (2.32.3)\n",
      "Requirement already satisfied: filelock in /venv/main/lib/python3.10/site-packages (from transformers) (3.17.0)\n",
      "Requirement already satisfied: fsspec>=2023.5.0 in /venv/main/lib/python3.10/site-packages (from huggingface-hub<1.0,>=0.30.0->transformers) (2024.12.0)\n",
      "Requirement already satisfied: typing-extensions>=3.7.4.3 in /venv/main/lib/python3.10/site-packages (from huggingface-hub<1.0,>=0.30.0->transformers) (4.12.2)\n",
      "Requirement already satisfied: charset-normalizer<4,>=2 in /venv/main/lib/python3.10/site-packages (from requests->transformers) (3.4.1)\n",
      "Requirement already satisfied: urllib3<3,>=1.21.1 in /venv/main/lib/python3.10/site-packages (from requests->transformers) (2.3.0)\n",
      "Requirement already satisfied: certifi>=2017.4.17 in /venv/main/lib/python3.10/site-packages (from requests->transformers) (2025.1.31)\n",
      "Requirement already satisfied: idna<4,>=2.5 in /venv/main/lib/python3.10/site-packages (from requests->transformers) (3.10)\n",
      "Installing collected packages: safetensors, huggingface-hub, tokenizers, transformers\n",
      "  Attempting uninstall: huggingface-hub\n",
      "    Found existing installation: huggingface-hub 0.29.3\n",
      "    Uninstalling huggingface-hub-0.29.3:\n",
      "      Successfully uninstalled huggingface-hub-0.29.3\n",
      "Successfully installed huggingface-hub-0.30.2 safetensors-0.5.3 tokenizers-0.21.1 transformers-4.51.3\n"
     ]
    }
   ],
   "source": [
    "!pip install datasets\n",
    "!pip install transformers"
   ]
  },
  {
   "cell_type": "code",
   "execution_count": 3,
   "metadata": {
    "_cell_guid": "b1076dfc-b9ad-4769-8c92-a6c4dae69d19",
    "_uuid": "8f2839f25d086af736a60e9eeb907d3b93b6e0e5"
   },
   "outputs": [],
   "source": [
    "import math\n",
    "import torch\n",
    "import torch.nn as nn\n",
    "import torch.optim as optim\n",
    "from torch.utils.data import DataLoader\n",
    "import torch.nn.functional as F\n",
    "from datasets import load_dataset\n",
    "from transformers import BartTokenizer, get_linear_schedule_with_warmup\n",
    "from rouge_score import rouge_scorer\n",
    "from tqdm import tqdm"
   ]
  },
  {
   "cell_type": "code",
   "execution_count": 4,
   "metadata": {},
   "outputs": [],
   "source": [
    "max_src_len   = 512      \n",
    "max_tgt_len   = 128      \n",
    "batch_size    = 8\n",
    "epochs        = 25\n",
    "lr            = 0.0001\n",
    "weight_decay  = 0.01\n",
    "grad_clip     = 1.0\n",
    "beam_size     = 4\n",
    "warmup_ratio  = 0.1"
   ]
  },
  {
   "cell_type": "code",
   "execution_count": 5,
   "metadata": {},
   "outputs": [],
   "source": [
    "def tokenize(batch):\n",
    "    src = tokenizer(batch['text'], max_length=max_src_len, truncation=True, padding='max_length')\n",
    "    tgt = tokenizer(batch['target'], max_length=max_tgt_len, truncation=True, padding='max_length')\n",
    "    \n",
    "    return {'input_ids': src.input_ids, 'attention_mask': src.attention_mask, 'labels': tgt.input_ids}"
   ]
  },
  {
   "cell_type": "code",
   "execution_count": 6,
   "metadata": {},
   "outputs": [],
   "source": [
    "def get_loaders(dataset_path):\n",
    "    splits = load_dataset(dataset_path, split={\"train\":\"train\",\"validation\":\"validation\"})\n",
    "    tokenized = splits.map(tokenize, batched=True)\n",
    "    tokenized.set_format(type='torch', columns=['input_ids','attention_mask','labels'])\n",
    "    valid_loader = DataLoader(tokenized['validation'], batch_size=batch_size, num_workers=4, pin_memory=True)\n",
    "    train_loader = DataLoader(tokenized['train'], batch_size=batch_size, shuffle=True, num_workers=4, pin_memory=True,persistent_workers=True)\n",
    "    return train_loader, valid_loader"
   ]
  },
  {
   "cell_type": "code",
   "execution_count": 7,
   "metadata": {},
   "outputs": [
    {
     "data": {
      "application/vnd.jupyter.widget-view+json": {
       "model_id": "4c8bb5e5813b4b23a70f881c3995505e",
       "version_major": 2,
       "version_minor": 0
      },
      "text/plain": [
       "vocab.json:   0%|          | 0.00/899k [00:00<?, ?B/s]"
      ]
     },
     "metadata": {},
     "output_type": "display_data"
    },
    {
     "data": {
      "application/vnd.jupyter.widget-view+json": {
       "model_id": "f3f235a8c2ff4b7d8ea493a13826c4ba",
       "version_major": 2,
       "version_minor": 0
      },
      "text/plain": [
       "merges.txt:   0%|          | 0.00/456k [00:00<?, ?B/s]"
      ]
     },
     "metadata": {},
     "output_type": "display_data"
    },
    {
     "data": {
      "application/vnd.jupyter.widget-view+json": {
       "model_id": "9d44e62bd2284411876ae875d34736d8",
       "version_major": 2,
       "version_minor": 0
      },
      "text/plain": [
       "tokenizer.json:   0%|          | 0.00/1.36M [00:00<?, ?B/s]"
      ]
     },
     "metadata": {},
     "output_type": "display_data"
    },
    {
     "data": {
      "application/vnd.jupyter.widget-view+json": {
       "model_id": "fc81162a23174cdc8538db0188f260fe",
       "version_major": 2,
       "version_minor": 0
      },
      "text/plain": [
       "config.json:   0%|          | 0.00/1.72k [00:00<?, ?B/s]"
      ]
     },
     "metadata": {},
     "output_type": "display_data"
    }
   ],
   "source": [
    "tokenizer = BartTokenizer.from_pretrained(\"facebook/bart-base\")\n",
    "vocab_size = tokenizer.vocab_size"
   ]
  },
  {
   "cell_type": "code",
   "execution_count": 8,
   "metadata": {},
   "outputs": [
    {
     "data": {
      "application/vnd.jupyter.widget-view+json": {
       "model_id": "e90e3ae87fda40ce8290a4d8f0828a3f",
       "version_major": 2,
       "version_minor": 0
      },
      "text/plain": [
       "xlsum_en_train.jsonl:   0%|          | 0.00/600M [00:00<?, ?B/s]"
      ]
     },
     "metadata": {},
     "output_type": "display_data"
    },
    {
     "data": {
      "application/vnd.jupyter.widget-view+json": {
       "model_id": "f8f6e0e9cf0746e69f98a99537babf17",
       "version_major": 2,
       "version_minor": 0
      },
      "text/plain": [
       "xlsum_en_validation.jsonl:   0%|          | 0.00/22.8M [00:00<?, ?B/s]"
      ]
     },
     "metadata": {},
     "output_type": "display_data"
    },
    {
     "data": {
      "application/vnd.jupyter.widget-view+json": {
       "model_id": "7392262dd9bd4199a63636edaaf747e6",
       "version_major": 2,
       "version_minor": 0
      },
      "text/plain": [
       "xlsum_en_test.jsonl:   0%|          | 0.00/22.8M [00:00<?, ?B/s]"
      ]
     },
     "metadata": {},
     "output_type": "display_data"
    },
    {
     "data": {
      "application/vnd.jupyter.widget-view+json": {
       "model_id": "d292257f85334e55949702ae0de82670",
       "version_major": 2,
       "version_minor": 0
      },
      "text/plain": [
       "Generating train split:   0%|          | 0/306521 [00:00<?, ? examples/s]"
      ]
     },
     "metadata": {},
     "output_type": "display_data"
    },
    {
     "data": {
      "application/vnd.jupyter.widget-view+json": {
       "model_id": "b8fcb166ad874c8cba01403f9514b41e",
       "version_major": 2,
       "version_minor": 0
      },
      "text/plain": [
       "Generating validation split:   0%|          | 0/11535 [00:00<?, ? examples/s]"
      ]
     },
     "metadata": {},
     "output_type": "display_data"
    },
    {
     "data": {
      "application/vnd.jupyter.widget-view+json": {
       "model_id": "7947717cee334bbaaabbee463b7df5be",
       "version_major": 2,
       "version_minor": 0
      },
      "text/plain": [
       "Generating test split:   0%|          | 0/11535 [00:00<?, ? examples/s]"
      ]
     },
     "metadata": {},
     "output_type": "display_data"
    },
    {
     "data": {
      "application/vnd.jupyter.widget-view+json": {
       "model_id": "cbfd7b46834d4bbdb6a7ff49c72c7969",
       "version_major": 2,
       "version_minor": 0
      },
      "text/plain": [
       "Map:   0%|          | 0/306521 [00:00<?, ? examples/s]"
      ]
     },
     "metadata": {},
     "output_type": "display_data"
    },
    {
     "data": {
      "application/vnd.jupyter.widget-view+json": {
       "model_id": "24bfa39e56c44a1ba712c0ba624e8f08",
       "version_major": 2,
       "version_minor": 0
      },
      "text/plain": [
       "Map:   0%|          | 0/11535 [00:00<?, ? examples/s]"
      ]
     },
     "metadata": {},
     "output_type": "display_data"
    }
   ],
   "source": [
    "train_loader, valid_loader = get_loaders(\"nlplabtdtu/xlsum_en\")"
   ]
  },
  {
   "cell_type": "code",
   "execution_count": 21,
   "metadata": {},
   "outputs": [],
   "source": [
    "class TrainablePositionalEncoding(nn.Module):\n",
    "    def __init__(self, d_model, max_len=1000):\n",
    "        super().__init__()\n",
    "        self.pos = nn.Parameter(torch.zeros(max_len, d_model))\n",
    "    def forward(self, x):\n",
    "        seq_len = x.size(0)\n",
    "        return x + self.pos[:seq_len].unsqueeze(1)"
   ]
  },
  {
   "cell_type": "code",
   "execution_count": 22,
   "metadata": {},
   "outputs": [],
   "source": [
    "class TransformerSummarizer(nn.Module):\n",
    "    \n",
    "    def __init__(self, vocab_size, d_model=512, nhead=8, enc_layers=3, dec_layers=3, dim_ff=2048, dropout=0.1):\n",
    "        super().__init__()\n",
    "        self.embed       = nn.Embedding(vocab_size, d_model)\n",
    "        self.pos_enc     = TrainablePositionalEncoding(d_model)\n",
    "        self.pos_dec     = TrainablePositionalEncoding(d_model)\n",
    "        self.transformer = nn.Transformer(d_model, nhead, enc_layers, dec_layers, dim_ff, dropout, activation='gelu', batch_first=True)\n",
    "        self.out_proj    = nn.Linear(d_model, vocab_size)\n",
    "        \n",
    "    def forward(self, src, tgt, src_attention_mask=None, tgt_attention_mask=None):\n",
    "\n",
    "        pad_id = tokenizer.pad_token_id\n",
    "        src_kpm = (src == pad_id)\n",
    "        tgt_kpm = (tgt == pad_id)\n",
    "        \n",
    "        src_emb = self.pos_enc(self.embed(src) * math.sqrt(self.embed.embedding_dim))\n",
    "        tgt_emb = self.pos_dec(self.embed(tgt) * math.sqrt(self.embed.embedding_dim))\n",
    "        \n",
    "        size = tgt.size(1)\n",
    "        tgt_mask = torch.triu(torch.full((size, size), True,dtype=torch.bool), 1).to(device)\n",
    "        \n",
    "        out = self.transformer(src_emb, tgt_emb, tgt_mask=tgt_mask,\n",
    "                               src_key_padding_mask=src_kpm,\n",
    "                               tgt_key_padding_mask=tgt_kpm,\n",
    "                               memory_key_padding_mask=src_kpm\n",
    "                              )\n",
    "        \n",
    "        return self.out_proj(out)"
   ]
  },
  {
   "cell_type": "code",
   "execution_count": 23,
   "metadata": {},
   "outputs": [],
   "source": [
    "device = torch.device(\"cuda\" if torch.cuda.is_available() else \"cpu\")"
   ]
  },
  {
   "cell_type": "code",
   "execution_count": 24,
   "metadata": {},
   "outputs": [],
   "source": [
    "model = TransformerSummarizer(vocab_size).to(device)"
   ]
  },
  {
   "cell_type": "code",
   "execution_count": 25,
   "metadata": {},
   "outputs": [],
   "source": [
    "optimizer = optim.AdamW(model.parameters(), lr=lr, weight_decay=weight_decay)"
   ]
  },
  {
   "cell_type": "code",
   "execution_count": 26,
   "metadata": {},
   "outputs": [],
   "source": [
    "criterion = nn.CrossEntropyLoss(ignore_index=tokenizer.pad_token_id, reduction='none')"
   ]
  },
  {
   "cell_type": "code",
   "execution_count": 52,
   "metadata": {},
   "outputs": [],
   "source": [
    "total_steps = len(train_loader) * epochs\n",
    "warmup_steps = int(total_steps * warmup_ratio)\n",
    "    \n",
    "scheduler = get_linear_schedule_with_warmup(optimizer, \n",
    "                                            num_warmup_steps=warmup_steps,\n",
    "                                            num_training_steps=total_steps\n",
    "                                            )"
   ]
  },
  {
   "cell_type": "code",
   "execution_count": 53,
   "metadata": {},
   "outputs": [],
   "source": [
    "def beam_search_decode(model, src_ids, src_mask=None, max_len=100, beam_size=5, \n",
    "                       device='cpu', tokenizer=None, length_penalty=1.0, \n",
    "                       early_stopping=True):\n",
    "    \n",
    "    model.eval()\n",
    "    batch_size = src_ids.size(0)\n",
    "\n",
    "    bos_token_id = getattr(tokenizer, 'bos_token_id', tokenizer.cls_token_id)\n",
    "    eos_token_id = getattr(tokenizer, 'eos_token_id', tokenizer.sep_token_id)\n",
    "    \n",
    "    if batch_size > 1:\n",
    "        return [\n",
    "            beam_search_decode(\n",
    "                model, src_ids[i:i+1],\n",
    "                None if src_mask is None else src_mask[i:i+1],\n",
    "                max_len, beam_size, device, tokenizer, length_penalty, early_stopping\n",
    "            )\n",
    "            for i in range(batch_size)\n",
    "        ]\n",
    "\n",
    "    # Initialize beam search variables\n",
    "    current_tokens = torch.full((beam_size, 1), bos_token_id, dtype=torch.long, device=device)\n",
    "    beam_scores = torch.zeros(beam_size, device=device)\n",
    "    done_beams = [False] * beam_size\n",
    "\n",
    "    expanded_src_ids = src_ids.expand(beam_size, -1)\n",
    "    expanded_src_mask = None if src_mask is None else src_mask.expand(beam_size, -1)\n",
    "\n",
    "    for step in range(max_len - 1):\n",
    "        tgt_mask = None\n",
    "        if hasattr(model, 'generate_square_subsequent_mask'):\n",
    "            tgt_mask = model.generate_square_subsequent_mask(\n",
    "                current_tokens.size(1)\n",
    "            ).to(device)\n",
    "\n",
    "        with torch.inference_mode():\n",
    "            outputs = model(\n",
    "                src=expanded_src_ids,\n",
    "                tgt=current_tokens,\n",
    "                src_attention_mask=expanded_src_mask,\n",
    "                tgt_attention_mask=tgt_mask\n",
    "            )\n",
    "\n",
    "        next_token_logits = outputs[:, -1, :]\n",
    "        next_token_logprobs = F.log_softmax(next_token_logits, dim=-1)\n",
    "\n",
    "        vocab_size = next_token_logprobs.size(-1)\n",
    "        expanded_scores = beam_scores.unsqueeze(1) + next_token_logprobs\n",
    "        flat_scores = expanded_scores.view(-1)\n",
    "\n",
    "        topk_scores, topk_indices = torch.topk(\n",
    "            flat_scores, k=min(2 * beam_size, flat_scores.size(0))\n",
    "        )\n",
    "\n",
    "        beam_ix = topk_indices // vocab_size\n",
    "        token_ix = topk_indices % vocab_size\n",
    "\n",
    "        candidates = []\n",
    "        for b, tok, sc in zip(beam_ix.tolist(), token_ix.tolist(), topk_scores.tolist()):\n",
    "            if done_beams[b]:\n",
    "                continue\n",
    "            new_tokens = torch.cat([\n",
    "                current_tokens[b],\n",
    "                torch.tensor([tok], dtype=torch.long, device=device)\n",
    "            ], dim=0)\n",
    "            candidates.append({\n",
    "                'tokens': new_tokens,\n",
    "                'score': sc,\n",
    "                'is_done': (tok == eos_token_id)\n",
    "            })\n",
    "            if len(candidates) >= beam_size:\n",
    "                break\n",
    "\n",
    "        if not candidates:\n",
    "            new_tokens = torch.cat([\n",
    "                current_tokens[0],\n",
    "                torch.tensor([eos_token_id], dtype=torch.long, device=device)\n",
    "            ], dim=0)\n",
    "            candidates.append({\n",
    "                'tokens': new_tokens,\n",
    "                'score': beam_scores[0].item(),\n",
    "                'is_done': True\n",
    "            })\n",
    "\n",
    "        while len(candidates) < beam_size:\n",
    "            candidates.append(candidates[0])  # safe now due to fallback\n",
    "\n",
    "        current_tokens = torch.stack([c['tokens'] for c in candidates])\n",
    "        beam_scores = torch.tensor([c['score'] for c in candidates], device=device)\n",
    "        done_beams = [c['is_done'] for c in candidates]\n",
    "\n",
    "        if all(done_beams) and early_stopping:\n",
    "            break\n",
    "\n",
    "    seq_lens = current_tokens.size(1)\n",
    "    adjusted_scores = beam_scores / (seq_lens ** length_penalty)\n",
    "    best_idx = adjusted_scores.argmax().item()\n",
    "    best_tokens = current_tokens[best_idx].tolist()\n",
    "\n",
    "    return tokenizer.decode(best_tokens, skip_special_tokens=True)\n"
   ]
  },
  {
   "cell_type": "code",
   "execution_count": 54,
   "metadata": {},
   "outputs": [],
   "source": [
    "def greedy_decode(model, src, src_mask=None, max_len=100, device=None, tokenizer=None):\n",
    "    \n",
    "    model.eval()\n",
    "    if device is None:\n",
    "        device = src.device\n",
    "\n",
    "    bos_token_id = getattr(tokenizer, 'bos_token_id', tokenizer.cls_token_id)\n",
    "    eos_token_id = getattr(tokenizer, 'eos_token_id', tokenizer.sep_token_id)\n",
    "\n",
    "    decoder_input = torch.tensor([[bos_token_id]], device=device)\n",
    "    \n",
    "    with torch.inference_mode():\n",
    "        for _ in range(max_len - 1):\n",
    "            logits = model(\n",
    "                src=src,\n",
    "                tgt=decoder_input,\n",
    "                src_attention_mask=src_mask,\n",
    "                tgt_attention_mask=None\n",
    "            )\n",
    "            next_logits = logits[:, -1, :]\n",
    "            next_token  = next_logits.argmax(dim=-1, keepdim=True)\n",
    "            decoder_input = torch.cat([decoder_input, next_token], dim=1)\n",
    "            if next_token.item() == eos_token_id:\n",
    "                break\n",
    "    \n",
    "    return decoder_input"
   ]
  },
  {
   "cell_type": "code",
   "execution_count": 55,
   "metadata": {},
   "outputs": [],
   "source": [
    "def generate_summary(model, src_ids, src_mask=None, max_len=100, \n",
    "                     method=\"beam_search\", beam_size=5, device=None):\n",
    "                     \n",
    "    if method == \"greedy\":\n",
    "        gen_ids = greedy_decode(\n",
    "            model, src_ids, src_mask, max_len, device, tokenizer\n",
    "        )\n",
    "        return tokenizer.decode(gen_ids[0], skip_special_tokens=True)\n",
    "\n",
    "    elif method == \"beam_search\":\n",
    "        return beam_search_decode(\n",
    "            model, src_ids, src_mask, max_len, beam_size, device, tokenizer\n",
    "        )\n",
    "\n",
    "    else:\n",
    "        raise ValueError(f\"Unknown decoding method: {method}\")"
   ]
  },
  {
   "cell_type": "code",
   "execution_count": 56,
   "metadata": {},
   "outputs": [],
   "source": [
    "def load_checkpoint(checkpoint_path, model, optimizer=None, scheduler=None):\n",
    "    \n",
    "    try:\n",
    "        print(f\"Loading checkpoint from {checkpoint_path}\")\n",
    "        \n",
    "        checkpoint = torch.load(checkpoint_path, map_location='cpu', weights_only=False)\n",
    "        \n",
    "        model.load_state_dict(checkpoint['model_state_dict'])\n",
    "        print(\"Model weights loaded successfully\")\n",
    "        \n",
    "        if optimizer is not None and 'optimizer_state_dict' in checkpoint:\n",
    "            optimizer.load_state_dict(checkpoint['optimizer_state_dict'])\n",
    "            print(\"Optimizer state restored\")\n",
    "        \n",
    "        if scheduler is not None and 'scheduler_state_dict' in checkpoint:\n",
    "            scheduler.load_state_dict(checkpoint['scheduler_state_dict'])\n",
    "            print(\"Scheduler state restored\")\n",
    "        \n",
    "        metrics = {\n",
    "            'train_loss': checkpoint.get('train_loss'),\n",
    "            'val_loss': checkpoint.get('val_loss'),\n",
    "            'rouge_scores': checkpoint.get('rouge_scores')\n",
    "        }\n",
    "        \n",
    "        epoch = checkpoint.get('epoch', -1) + 1  # +1 because we want to start from the next epoch\n",
    "        \n",
    "        print(f\"Checkpoint loaded from epoch {epoch}\")\n",
    "        if 'val_loss' in checkpoint:\n",
    "            print(f\"Validation loss: {checkpoint['val_loss']:.4f}\")\n",
    "        \n",
    "        return model, optimizer, scheduler, epoch, metrics\n",
    "        \n",
    "    except Exception as e:\n",
    "        print(f\"Error loading checkpoint: {e}\")\n",
    "        raise e"
   ]
  },
  {
   "cell_type": "code",
   "execution_count": 61,
   "metadata": {},
   "outputs": [],
   "source": [
    "def evaluate_model(model, val_loader, criterion, device, vocab_size, pad_token_id, tokenizer):\n",
    "    model.eval()\n",
    "    \n",
    "    total_loss = 0\n",
    "    rouge_scores = {'rouge1': [], 'rouge2': [], 'rougeL': []}\n",
    "    full_rouge_scores = []  # <-- Store full score objects\n",
    "\n",
    "    scorer = rouge_scorer.RougeScorer(['rouge1', 'rouge2', 'rougeL'], use_stemmer=True)\n",
    "    \n",
    "    progress_bar = tqdm(val_loader, desc=\"Validating\")\n",
    "    \n",
    "    with torch.inference_mode():\n",
    "        for batch in progress_bar:\n",
    "            src = batch['input_ids'].to(device, non_blocking=True)\n",
    "            src_attention_mask = batch['attention_mask'].to(device, non_blocking=True)\n",
    "            tgt = batch['labels'].to(device, non_blocking=True)\n",
    "            tgt_inp, tgt_lbl = tgt[:, :-1], tgt[:, 1:]\n",
    "            \n",
    "            tgt_attention_mask = (tgt_inp != pad_token_id).to(device, non_blocking=True)\n",
    "            loss_mask = (tgt_lbl != pad_token_id).float()\n",
    "            \n",
    "            logits = model(\n",
    "                src=src,\n",
    "                tgt=tgt_inp,\n",
    "                src_attention_mask=src_attention_mask,\n",
    "                tgt_attention_mask=tgt_attention_mask\n",
    "            )\n",
    "            \n",
    "            loss = criterion(logits.reshape(-1, vocab_size), tgt_lbl.reshape(-1))\n",
    "            masked_loss = (loss * loss_mask.reshape(-1)).sum() / max(loss_mask.sum(), 1)\n",
    "            total_loss += masked_loss.item()\n",
    "            \n",
    "            batch_size = src.size(0)\n",
    "            for i in range(batch_size):\n",
    "                summary = generate_summary(\n",
    "                    model=model,\n",
    "                    src_ids=src[i:i+1],\n",
    "                    src_mask=src_attention_mask[i:i+1],\n",
    "                    max_len=100,\n",
    "                    method=\"beam_search\",\n",
    "                    beam_size=5,\n",
    "                    device=device\n",
    "                )\n",
    "                \n",
    "                reference = tokenizer.decode(\n",
    "                    [t for t in tgt[i].tolist() if t != pad_token_id], \n",
    "                    skip_special_tokens=True\n",
    "                )\n",
    "                \n",
    "                scores = scorer.score(reference, summary)\n",
    "                full_rouge_scores.append({\n",
    "                    'reference': reference,\n",
    "                    'summary': summary,\n",
    "                    'scores': scores\n",
    "                })\n",
    "                \n",
    "                for k in rouge_scores:\n",
    "                    rouge_scores[k].append(scores[k].fmeasure)\n",
    "                \n",
    "    avg_loss = total_loss / len(val_loader)\n",
    "    avg_rouge = {k: sum(v)/max(len(v), 1) for k, v in rouge_scores.items()}\n",
    "    \n",
    "    return avg_loss, avg_rouge, full_rouge_scores"
   ]
  },
  {
   "cell_type": "code",
   "execution_count": 62,
   "metadata": {},
   "outputs": [],
   "source": [
    "def evaluate_checkpoints(checkpoint_paths, model_class, model_kwargs, val_loader, \n",
    "                         criterion, device, vocab_size, pad_token_id, tokenizer):\n",
    "    results = []\n",
    "\n",
    "    for ckpt_path in checkpoint_paths:\n",
    "        print(f\"\\n--- Evaluating {ckpt_path} ---\")\n",
    "        \n",
    "        model = model_class(**model_kwargs).to(device)\n",
    "        model, _, _, epoch, metrics = load_checkpoint(ckpt_path, model)\n",
    "        model.to(device)\n",
    "        val_loss, avg_rouge, full_rouge_scores = evaluate_model(\n",
    "            model=model,\n",
    "            val_loader=val_loader,\n",
    "            criterion=criterion,\n",
    "            device=device,\n",
    "            vocab_size=vocab_size,\n",
    "            pad_token_id=pad_token_id,\n",
    "            tokenizer=tokenizer\n",
    "        )\n",
    "\n",
    "        print(f\"[Epoch {epoch:02d}] ValLoss: {val_loss:.4f} | \"\n",
    "              f\"ROUGE-1: {avg_rouge['rouge1']:.4f} | \"\n",
    "              f\"ROUGE-2: {avg_rouge['rouge2']:.4f} | \"\n",
    "              f\"ROUGE-L: {avg_rouge['rougeL']:.4f}\")\n",
    "\n",
    "        results.append({\n",
    "            \"checkpoint\": ckpt_path,\n",
    "            \"epoch\": epoch,\n",
    "            \"val_loss\": val_loss,\n",
    "            \"rouge\": avg_rouge,\n",
    "            \"full_rouge_scores\": full_rouge_scores\n",
    "        })\n",
    "\n",
    "    return results"
   ]
  },
  {
   "cell_type": "code",
   "execution_count": 34,
   "metadata": {},
   "outputs": [
    {
     "name": "stdout",
     "output_type": "stream",
     "text": [
      "Collecting gdown\n",
      "  Downloading gdown-5.2.0-py3-none-any.whl (18 kB)\n",
      "Requirement already satisfied: tqdm in /venv/main/lib/python3.10/site-packages (from gdown) (4.67.1)\n",
      "Requirement already satisfied: filelock in /venv/main/lib/python3.10/site-packages (from gdown) (3.17.0)\n",
      "Requirement already satisfied: requests[socks] in /venv/main/lib/python3.10/site-packages (from gdown) (2.32.3)\n",
      "Collecting beautifulsoup4\n",
      "  Downloading beautifulsoup4-4.13.4-py3-none-any.whl (187 kB)\n",
      "\u001b[2K     \u001b[90m━━━━━━━━━━━━━━━━━━━━━━━━━━━━━━━━━━━━━━━\u001b[0m \u001b[32m187.3/187.3 KB\u001b[0m \u001b[31m6.6 MB/s\u001b[0m eta \u001b[36m0:00:00\u001b[0m\n",
      "Collecting soupsieve>1.2\n",
      "  Downloading soupsieve-2.7-py3-none-any.whl (36 kB)\n",
      "Requirement already satisfied: typing-extensions>=4.0.0 in /venv/main/lib/python3.10/site-packages (from beautifulsoup4->gdown) (4.12.2)\n",
      "Requirement already satisfied: urllib3<3,>=1.21.1 in /venv/main/lib/python3.10/site-packages (from requests[socks]->gdown) (2.3.0)\n",
      "Requirement already satisfied: certifi>=2017.4.17 in /venv/main/lib/python3.10/site-packages (from requests[socks]->gdown) (2025.1.31)\n",
      "Requirement already satisfied: idna<4,>=2.5 in /venv/main/lib/python3.10/site-packages (from requests[socks]->gdown) (3.10)\n",
      "Requirement already satisfied: charset-normalizer<4,>=2 in /venv/main/lib/python3.10/site-packages (from requests[socks]->gdown) (3.4.1)\n",
      "Collecting PySocks!=1.5.7,>=1.5.6\n",
      "  Downloading PySocks-1.7.1-py3-none-any.whl (16 kB)\n",
      "Installing collected packages: soupsieve, PySocks, beautifulsoup4, gdown\n",
      "Successfully installed PySocks-1.7.1 beautifulsoup4-4.13.4 gdown-5.2.0 soupsieve-2.7\n"
     ]
    }
   ],
   "source": [
    "!pip install gdown"
   ]
  },
  {
   "cell_type": "code",
   "execution_count": 35,
   "metadata": {},
   "outputs": [],
   "source": [
    "import gdown\n",
    "import zipfile\n",
    "import os"
   ]
  },
  {
   "cell_type": "code",
   "execution_count": 36,
   "metadata": {},
   "outputs": [],
   "source": [
    "file_id = \"11GmoZFc1aybk7qd_aNsO8UyzQO1zlckr\"\n",
    "zip_name = \"Models_Exp_1.zip\"\n",
    "extract_dir = \"models\""
   ]
  },
  {
   "cell_type": "code",
   "execution_count": 38,
   "metadata": {},
   "outputs": [
    {
     "name": "stderr",
     "output_type": "stream",
     "text": [
      "Downloading...\n",
      "From (original): https://drive.google.com/uc?id=11GmoZFc1aybk7qd_aNsO8UyzQO1zlckr\n",
      "From (redirected): https://drive.google.com/uc?id=11GmoZFc1aybk7qd_aNsO8UyzQO1zlckr&confirm=t&uuid=b7f3ee56-eb15-4520-93a3-f8696ee16d16\n",
      "To: /workspace/Models_Exp_1.zip\n",
      "100%|██████████| 19.8G/19.8G [04:24<00:00, 74.8MB/s] \n"
     ]
    },
    {
     "data": {
      "text/plain": [
       "'Models_Exp_1.zip'"
      ]
     },
     "execution_count": 38,
     "metadata": {},
     "output_type": "execute_result"
    }
   ],
   "source": [
    "gdown.download(f\"https://drive.google.com/uc?id={file_id}\", zip_name, quiet=False)"
   ]
  },
  {
   "cell_type": "code",
   "execution_count": 42,
   "metadata": {},
   "outputs": [],
   "source": [
    "with zipfile.ZipFile(zip_name, 'r') as zip_ref:\n",
    "    zip_ref.extractall(extract_dir)"
   ]
  },
  {
   "cell_type": "code",
   "execution_count": 63,
   "metadata": {},
   "outputs": [],
   "source": [
    "checkpoint_paths = ['models/transformer_epoch_5.pt',\n",
    "'models/transformer_epoch_10.pt',\n",
    "'models/transformer_epoch_15.pt',\n",
    "'models/transformer_epoch_16.pt',\n",
    "'models/transformer_epoch_17.pt',\n",
    "'models/transformer_epoch_20.pt',\n",
    "'models/transformer_epoch_25.pt']"
   ]
  },
  {
   "cell_type": "code",
   "execution_count": 64,
   "metadata": {},
   "outputs": [],
   "source": [
    "model_class = TransformerSummarizer"
   ]
  },
  {
   "cell_type": "code",
   "execution_count": 65,
   "metadata": {},
   "outputs": [],
   "source": [
    "model_kwargs = {\n",
    "    \"vocab_size\": tokenizer.vocab_size,\n",
    "    \"d_model\": 512,\n",
    "    \"nhead\": 8,\n",
    "    \"enc_layers\":3, \n",
    "    \"dec_layers\":3,\n",
    "}"
   ]
  },
  {
   "cell_type": "code",
   "execution_count": 66,
   "metadata": {},
   "outputs": [],
   "source": [
    "import warnings\n",
    "warnings.filterwarnings(\"ignore\", message=\"The PyTorch API of nested tensors.*\")"
   ]
  },
  {
   "cell_type": "code",
   "execution_count": 67,
   "metadata": {},
   "outputs": [
    {
     "name": "stdout",
     "output_type": "stream",
     "text": [
      "\n",
      "--- Evaluating models/transformer_epoch_5.pt ---\n",
      "Loading checkpoint from models/transformer_epoch_5.pt\n",
      "Model weights loaded successfully\n",
      "Checkpoint loaded from epoch 5\n",
      "Validation loss: 3.2916\n"
     ]
    },
    {
     "name": "stderr",
     "output_type": "stream",
     "text": [
      "Validating: 100%|██████████| 1442/1442 [57:21<00:00,  2.39s/it]\n"
     ]
    },
    {
     "name": "stdout",
     "output_type": "stream",
     "text": [
      "[Epoch 05] ValLoss: 3.2916 | ROUGE-1: 0.2716 | ROUGE-2: 0.0711 | ROUGE-L: 0.2112\n",
      "\n",
      "--- Evaluating models/transformer_epoch_10.pt ---\n",
      "Loading checkpoint from models/transformer_epoch_10.pt\n",
      "Model weights loaded successfully\n",
      "Checkpoint loaded from epoch 10\n",
      "Validation loss: 3.0883\n"
     ]
    },
    {
     "name": "stderr",
     "output_type": "stream",
     "text": [
      "Validating: 100%|██████████| 1442/1442 [1:10:25<00:00,  2.93s/it]\n"
     ]
    },
    {
     "name": "stdout",
     "output_type": "stream",
     "text": [
      "[Epoch 10] ValLoss: 3.0883 | ROUGE-1: 0.2910 | ROUGE-2: 0.0852 | ROUGE-L: 0.2265\n",
      "\n",
      "--- Evaluating models/transformer_epoch_15.pt ---\n",
      "Loading checkpoint from models/transformer_epoch_15.pt\n",
      "Model weights loaded successfully\n",
      "Checkpoint loaded from epoch 15\n",
      "Validation loss: 3.0493\n"
     ]
    },
    {
     "name": "stderr",
     "output_type": "stream",
     "text": [
      "Validating: 100%|██████████| 1442/1442 [2:23:20<00:00,  5.96s/it] \n"
     ]
    },
    {
     "name": "stdout",
     "output_type": "stream",
     "text": [
      "[Epoch 15] ValLoss: 3.0493 | ROUGE-1: 0.3002 | ROUGE-2: 0.0916 | ROUGE-L: 0.2341\n",
      "\n",
      "--- Evaluating models/transformer_epoch_16.pt ---\n",
      "Loading checkpoint from models/transformer_epoch_16.pt\n",
      "Model weights loaded successfully\n",
      "Checkpoint loaded from epoch 16\n",
      "Validation loss: 3.0459\n"
     ]
    },
    {
     "name": "stderr",
     "output_type": "stream",
     "text": [
      "Validating: 100%|██████████| 1442/1442 [2:30:18<00:00,  6.25s/it] \n"
     ]
    },
    {
     "name": "stdout",
     "output_type": "stream",
     "text": [
      "[Epoch 16] ValLoss: 3.0459 | ROUGE-1: 0.2994 | ROUGE-2: 0.0919 | ROUGE-L: 0.2327\n",
      "\n",
      "--- Evaluating models/transformer_epoch_17.pt ---\n",
      "Loading checkpoint from models/transformer_epoch_17.pt\n",
      "Model weights loaded successfully\n",
      "Checkpoint loaded from epoch 17\n",
      "Validation loss: 3.0472\n"
     ]
    },
    {
     "name": "stderr",
     "output_type": "stream",
     "text": [
      "Validating: 100%|██████████| 1442/1442 [2:05:36<00:00,  5.23s/it] \n"
     ]
    },
    {
     "name": "stdout",
     "output_type": "stream",
     "text": [
      "[Epoch 17] ValLoss: 3.0472 | ROUGE-1: 0.3010 | ROUGE-2: 0.0921 | ROUGE-L: 0.2341\n",
      "\n",
      "--- Evaluating models/transformer_epoch_20.pt ---\n",
      "Loading checkpoint from models/transformer_epoch_20.pt\n",
      "Model weights loaded successfully\n",
      "Checkpoint loaded from epoch 20\n",
      "Validation loss: 3.0587\n"
     ]
    },
    {
     "name": "stderr",
     "output_type": "stream",
     "text": [
      "Validating: 100%|██████████| 1442/1442 [1:01:14<00:00,  2.55s/it]\n"
     ]
    },
    {
     "name": "stdout",
     "output_type": "stream",
     "text": [
      "[Epoch 20] ValLoss: 3.0587 | ROUGE-1: 0.3042 | ROUGE-2: 0.0949 | ROUGE-L: 0.2364\n",
      "\n",
      "--- Evaluating models/transformer_epoch_25.pt ---\n",
      "Loading checkpoint from models/transformer_epoch_25.pt\n",
      "Model weights loaded successfully\n",
      "Checkpoint loaded from epoch 25\n",
      "Validation loss: 3.0722\n"
     ]
    },
    {
     "name": "stderr",
     "output_type": "stream",
     "text": [
      "Validating: 100%|██████████| 1442/1442 [1:00:19<00:00,  2.51s/it]"
     ]
    },
    {
     "name": "stdout",
     "output_type": "stream",
     "text": [
      "[Epoch 25] ValLoss: 3.0722 | ROUGE-1: 0.3055 | ROUGE-2: 0.0960 | ROUGE-L: 0.2377\n"
     ]
    },
    {
     "name": "stderr",
     "output_type": "stream",
     "text": [
      "\n"
     ]
    }
   ],
   "source": [
    "results = evaluate_checkpoints(\n",
    "    checkpoint_paths=checkpoint_paths,\n",
    "    model_class=model_class,\n",
    "    model_kwargs=model_kwargs,\n",
    "    val_loader=valid_loader,\n",
    "    criterion=criterion,\n",
    "    device=device,\n",
    "    vocab_size=tokenizer.vocab_size,\n",
    "    pad_token_id=tokenizer.pad_token_id,\n",
    "    tokenizer=tokenizer\n",
    ")"
   ]
  },
  {
   "cell_type": "code",
   "execution_count": 1,
   "metadata": {},
   "outputs": [],
   "source": [
    "import json"
   ]
  },
  {
   "cell_type": "code",
   "execution_count": 2,
   "metadata": {},
   "outputs": [],
   "source": [
    "def save_result(data, filepath):\n",
    "    with open(filepath, 'w', encoding='utf-8') as f:\n",
    "        json.dump(data, f, indent=4)\n",
    "    print(f\"List of dictionaries saved as JSON to {filepath}\")"
   ]
  },
  {
   "cell_type": "code",
   "execution_count": 72,
   "metadata": {},
   "outputs": [
    {
     "name": "stdout",
     "output_type": "stream",
     "text": [
      "List of dictionaries saved as JSON to results.json\n"
     ]
    }
   ],
   "source": [
    "save_result(results, 'results.json')"
   ]
  },
  {
   "cell_type": "code",
   "execution_count": 73,
   "metadata": {},
   "outputs": [],
   "source": [
    "def generate_random_sample_summary(model, val_loader, tokenizer, device, \n",
    "                                   max_len=100, method='beam_search', beam_size=5):\n",
    "    model.eval()\n",
    "    \n",
    "    data_iter = iter(val_loader)\n",
    "    batch = None\n",
    "    for _ in range(random.randint(0, len(val_loader)-1)):\n",
    "        batch = next(data_iter)\n",
    "        \n",
    "    if batch is None:\n",
    "        print(\"Validation loader is empty or failed to sample.\")\n",
    "        return\n",
    "\n",
    "    src = batch['input_ids'].to(device)\n",
    "    tgt = batch['labels'].to(device)\n",
    "    \n",
    "    src = src.to(device)\n",
    "    tgt = tgt.to(device)\n",
    "\n",
    "    i = random.randint(0, src.size(0) - 1)\n",
    "    src_sample = src[i:i+1]\n",
    "    tgt_sample = tgt[i:i+1]\n",
    "\n",
    "    src_mask = (src_sample == tokenizer.pad_token_id)\n",
    "\n",
    "    summary = generate_summary(\n",
    "        model=model,\n",
    "        src_ids=src_sample,\n",
    "        src_mask=src_mask,\n",
    "        max_len=max_len,\n",
    "        method=method,\n",
    "        beam_size=beam_size,\n",
    "        device=device\n",
    "    )\n",
    "\n",
    "    input_text = tokenizer.decode(\n",
    "        [t for t in src_sample[0].tolist() if t != tokenizer.pad_token_id],\n",
    "        skip_special_tokens=True\n",
    "    )\n",
    "    reference_summary = tokenizer.decode(\n",
    "        [t for t in tgt_sample[0].tolist() if t != tokenizer.pad_token_id],\n",
    "        skip_special_tokens=True\n",
    "    )\n",
    "\n",
    "    print(\"\\nInput Document:\")\n",
    "    print(input_text)\n",
    "    print(\"\\nReference Summary:\")\n",
    "    print(reference_summary)\n",
    "    print(\"\\nGenerated Summary:\")\n",
    "    print(summary)"
   ]
  },
  {
   "cell_type": "code",
   "execution_count": 74,
   "metadata": {},
   "outputs": [],
   "source": [
    "model = TransformerSummarizer(\n",
    "    vocab_size=tokenizer.vocab_size,\n",
    "    d_model=512,\n",
    "    nhead=8,\n",
    "    enc_layers=3,\n",
    "    dec_layers=3,\n",
    "    dim_ff=2048,\n",
    "    dropout=0.1\n",
    ").to(device)"
   ]
  },
  {
   "cell_type": "code",
   "execution_count": 75,
   "metadata": {},
   "outputs": [],
   "source": [
    "model_path = 'models/transformer_epoch_15.pt'"
   ]
  },
  {
   "cell_type": "code",
   "execution_count": 76,
   "metadata": {},
   "outputs": [
    {
     "name": "stdout",
     "output_type": "stream",
     "text": [
      "Loading checkpoint from models/transformer_epoch_15.pt\n",
      "Model weights loaded successfully\n",
      "Checkpoint loaded from epoch 15\n",
      "Validation loss: 3.0493\n",
      "Model loaded from epoch 15\n"
     ]
    }
   ],
   "source": [
    "model, _, _, epoch, _ = load_checkpoint(model_path, model)\n",
    "print(f\"Model loaded from epoch {epoch}\")"
   ]
  },
  {
   "cell_type": "code",
   "execution_count": 78,
   "metadata": {},
   "outputs": [
    {
     "name": "stdout",
     "output_type": "stream",
     "text": [
      "\n",
      "Input Document:\n",
      "We have heard the word victory many times this week. The Iraqi authorities certainly want it to be a part of their motto for the New Year. The recapture of Ramadi has given them the morale lift they badly needed to start 2016.  But among the rubble of what is left of the city, victory is a word that does not echo very far. Perhaps thats because of the continuing sound of gunfire and mortars - or is it the roar of warplanes overhead followed by the loud blast of their strikes?  Yes, the Iraqi flag is flying over the city centre again but several hundred Islamic State (IS) militants are still able to do harm in their desperate resistance.  Ramadi was severely damaged during heavy fighting last year, before IS fighters forced Iraqi forces to abandon their positions and equipment in May. But the intensity of the battle last week devastated it. It is too early to give a precise figure but some military officials suggest that up to 80% of the city has been destroyed.  We drove through the southern neighbourhoods where the offensive began. The walls of the provincial universitys colourful buildings are pierced with gigantic holes. Some are now so charred, so damaged, that they are close to collapse.  Watch: How the battle for Ramadi unfolded Damage to Ramadi hampers return of those displaced We pushed through the normally densely populated neighbourhood of Tamim, the largest in the city. The concrete-block houses and high-rises here were either blown up and reduced to rubble, partially destroyed or riddled with bullets. The bridges connecting this sprawling part of Ramadi to the heart of town were cut in half: Islamic State fighters blew them up to slow the advance of Iraqi security forces.  Massive chunks of concrete can still be seen down in the Euphrates River - they look like sunken boats. Further west, we pass an eerie playground, the swings and slides caught up in the crossfire; the yellow, red, blue and green structures torn apart. Recreation is long gone in Ramadi. The city largely emptied out in the months... Tóm tắt văn bản đã cho giúp tôi\n",
      "\n",
      "Reference Summary:\n",
      "The recapture of Ramadi by Iraqi forces from Islamic State fighters has come at a high cost but may pave the way for future military victories, writes the BBCs Thomas Fessy.\n",
      "\n",
      "Generated Summary:\n",
      "The destruction caused by the jihadist group Islamic State (IS) has killed at least 1,000 people in the Iraqi city of Mosul. The BBCs Gabriel Gatehouse has been granted exclusive access to the city of Mosul, which has been devastated by the recent years of civil war.         \n"
     ]
    }
   ],
   "source": [
    "import random\n",
    "generate_random_sample_summary(\n",
    "    model=model,\n",
    "    val_loader=valid_loader,\n",
    "    tokenizer=tokenizer,\n",
    "    device=device,\n",
    "    max_len=100,\n",
    "    method=\"beam_search\",\n",
    "    beam_size=5\n",
    ")"
   ]
  },
  {
   "cell_type": "code",
   "execution_count": 79,
   "metadata": {},
   "outputs": [],
   "source": [
    "def generate_summary_from_text(model, tokenizer, device, src_text, max_len=100, method='beam_search', beam_size=5):\n",
    "    model.eval()\n",
    "    \n",
    "    src = tokenizer.encode(src_text, return_tensors=\"pt\").to(device)\n",
    "    \n",
    "    src_mask = (src == tokenizer.pad_token_id)\n",
    "\n",
    "    summary = generate_summary(\n",
    "        model=model,\n",
    "        src_ids=src,\n",
    "        src_mask=src_mask,\n",
    "        max_len=max_len,\n",
    "        method=method,\n",
    "        beam_size=beam_size,\n",
    "        device=device\n",
    "    )\n",
    "\n",
    "    input_text = tokenizer.decode(src[0], skip_special_tokens=True)\n",
    "    print(\"\\nInput Document:\")\n",
    "    print(input_text)\n",
    "    print(\"\\nGenerated Summary:\")\n",
    "    print(summary)"
   ]
  },
  {
   "cell_type": "code",
   "execution_count": 82,
   "metadata": {},
   "outputs": [
    {
     "name": "stdout",
     "output_type": "stream",
     "text": [
      "Loaded epoch 24: Train Loss = 2.0708, Val Loss = 3.0722\n"
     ]
    }
   ],
   "source": [
    "import torch\n",
    "\n",
    "# pick the checkpoint file you want:\n",
    "ckpt_path = \"models/transformer_epoch_25.pt\"\n",
    "\n",
    "# if you're on CPU but it was saved on GPU, map to CPU:\n",
    "checkpoint = torch.load(ckpt_path, map_location='cpu')\n",
    "\n",
    "epoch      = checkpoint['epoch']\n",
    "train_loss = checkpoint['train_loss']\n",
    "val_loss   = checkpoint['val_loss']\n",
    "\n",
    "print(f\"Loaded epoch {epoch}: Train Loss = {train_loss:.4f}, Val Loss = {val_loss:.4f}\")\n"
   ]
  },
  {
   "cell_type": "code",
   "execution_count": 83,
   "metadata": {},
   "outputs": [],
   "source": [
    "checkpoint_dir = \"models\"\n",
    "train_losses = []\n",
    "val_losses = []"
   ]
  },
  {
   "cell_type": "code",
   "execution_count": 84,
   "metadata": {},
   "outputs": [
    {
     "name": "stdout",
     "output_type": "stream",
     "text": [
      "Epoch  1: Train Loss = 6.1565, Val Loss = 4.8470\n",
      "Epoch  2: Train Loss = 4.4710, Val Loss = 3.9820\n",
      "Epoch  3: Train Loss = 3.8809, Val Loss = 3.6080\n",
      "Epoch  4: Train Loss = 3.5465, Val Loss = 3.4076\n",
      "Epoch  5: Train Loss = 3.3396, Val Loss = 3.2916\n",
      "Epoch  6: Train Loss = 3.1951, Val Loss = 3.2235\n",
      "Epoch  7: Train Loss = 3.0816, Val Loss = 3.1709\n",
      "Epoch  8: Train Loss = 2.9858, Val Loss = 3.1401\n",
      "Epoch  9: Train Loss = 2.9049, Val Loss = 3.1094\n",
      "Epoch 10: Train Loss = 2.8303, Val Loss = 3.0883\n",
      "Epoch 11: Train Loss = 2.7626, Val Loss = 3.0714\n",
      "Epoch 12: Train Loss = 2.6987, Val Loss = 3.0611\n",
      "Epoch 13: Train Loss = 2.6389, Val Loss = 3.0563\n",
      "Epoch 14: Train Loss = 2.5823, Val Loss = 3.0514\n",
      "Epoch 15: Train Loss = 2.5269, Val Loss = 3.0493\n",
      "Epoch 16: Train Loss = 2.4739, Val Loss = 3.0459\n",
      "Epoch 17: Train Loss = 2.4232, Val Loss = 3.0472\n",
      "Epoch 18: Train Loss = 2.3729, Val Loss = 3.0487\n",
      "Epoch 19: Train Loss = 2.3248, Val Loss = 3.0540\n",
      "Epoch 20: Train Loss = 2.2777, Val Loss = 3.0587\n",
      "Epoch 21: Train Loss = 2.2322, Val Loss = 3.0600\n",
      "Epoch 22: Train Loss = 2.1881, Val Loss = 3.0662\n",
      "Epoch 23: Train Loss = 2.1457, Val Loss = 3.0682\n",
      "Epoch 24: Train Loss = 2.1064, Val Loss = 3.0701\n",
      "Epoch 25: Train Loss = 2.0708, Val Loss = 3.0722\n"
     ]
    }
   ],
   "source": [
    "for epoch in range(1, 26):\n",
    "    ckpt_path = f\"{checkpoint_dir}/transformer_epoch_{epoch}.pt\"\n",
    "    try:\n",
    "        checkpoint = torch.load(ckpt_path, map_location='cpu')\n",
    "    except FileNotFoundError:\n",
    "        print(f\"Checkpoint not found: {ckpt_path}\")\n",
    "        continue\n",
    "\n",
    "    train_loss = checkpoint['train_loss']\n",
    "    val_loss   = checkpoint['val_loss']\n",
    "\n",
    "    train_losses.append(train_loss)\n",
    "    val_losses.append(val_loss)\n",
    "\n",
    "    print(f\"Epoch {epoch:>2d}: Train Loss = {train_loss:.4f}, Val Loss = {val_loss:.4f}\")"
   ]
  },
  {
   "cell_type": "code",
   "execution_count": 86,
   "metadata": {},
   "outputs": [
    {
     "name": "stdout",
     "output_type": "stream",
     "text": [
      "Collecting matplotlib\n",
      "  Downloading matplotlib-3.10.1-cp310-cp310-manylinux_2_17_x86_64.manylinux2014_x86_64.whl (8.6 MB)\n",
      "\u001b[2K     \u001b[90m━━━━━━━━━━━━━━━━━━━━━━━━━━━━━━━━━━━━━━━━\u001b[0m \u001b[32m8.6/8.6 MB\u001b[0m \u001b[31m54.6 MB/s\u001b[0m eta \u001b[36m0:00:00\u001b[0m00:01\u001b[0m00:01\u001b[0m\n",
      "\u001b[?25hRequirement already satisfied: pillow>=8 in /venv/main/lib/python3.10/site-packages (from matplotlib) (11.0.0)\n",
      "Collecting fonttools>=4.22.0\n",
      "  Downloading fonttools-4.57.0-cp310-cp310-manylinux_2_17_x86_64.manylinux2014_x86_64.whl (4.6 MB)\n",
      "\u001b[2K     \u001b[90m━━━━━━━━━━━━━━━━━━━━━━━━━━━━━━━━━━━━━━━━\u001b[0m \u001b[32m4.6/4.6 MB\u001b[0m \u001b[31m166.2 MB/s\u001b[0m eta \u001b[36m0:00:00\u001b[0m\n",
      "\u001b[?25hRequirement already satisfied: numpy>=1.23 in /venv/main/lib/python3.10/site-packages (from matplotlib) (2.1.2)\n",
      "Requirement already satisfied: packaging>=20.0 in /venv/main/lib/python3.10/site-packages (from matplotlib) (24.2)\n",
      "Requirement already satisfied: python-dateutil>=2.7 in /venv/main/lib/python3.10/site-packages (from matplotlib) (2.9.0.post0)\n",
      "Collecting pyparsing>=2.3.1\n",
      "  Downloading pyparsing-3.2.3-py3-none-any.whl (111 kB)\n",
      "\u001b[2K     \u001b[90m━━━━━━━━━━━━━━━━━━━━━━━━━━━━━━━━━━━━━━\u001b[0m \u001b[32m111.1/111.1 KB\u001b[0m \u001b[31m63.4 MB/s\u001b[0m eta \u001b[36m0:00:00\u001b[0m\n",
      "\u001b[?25hCollecting cycler>=0.10\n",
      "  Downloading cycler-0.12.1-py3-none-any.whl (8.3 kB)\n",
      "Collecting kiwisolver>=1.3.1\n",
      "  Downloading kiwisolver-1.4.8-cp310-cp310-manylinux_2_12_x86_64.manylinux2010_x86_64.whl (1.6 MB)\n",
      "\u001b[2K     \u001b[90m━━━━━━━━━━━━━━━━━━━━━━━━━━━━━━━━━━━━━━━━\u001b[0m \u001b[32m1.6/1.6 MB\u001b[0m \u001b[31m186.6 MB/s\u001b[0m eta \u001b[36m0:00:00\u001b[0m\n",
      "Collecting contourpy>=1.0.1\n",
      "  Downloading contourpy-1.3.2-cp310-cp310-manylinux_2_17_x86_64.manylinux2014_x86_64.whl (325 kB)\n",
      "\u001b[2K     \u001b[90m━━━━━━━━━━━━━━━━━━━━━━━━━━━━━━━━━━━━━\u001b[0m \u001b[32m325.0/325.0 KB\u001b[0m \u001b[31m119.1 MB/s\u001b[0m eta \u001b[36m0:00:00\u001b[0m\n",
      "Requirement already satisfied: six>=1.5 in /venv/main/lib/python3.10/site-packages (from python-dateutil>=2.7->matplotlib) (1.17.0)\n",
      "Installing collected packages: pyparsing, kiwisolver, fonttools, cycler, contourpy, matplotlib\n",
      "Successfully installed contourpy-1.3.2 cycler-0.12.1 fonttools-4.57.0 kiwisolver-1.4.8 matplotlib-3.10.1 pyparsing-3.2.3\n"
     ]
    }
   ],
   "source": [
    "!pip install matplotlib"
   ]
  },
  {
   "cell_type": "code",
   "execution_count": 87,
   "metadata": {},
   "outputs": [],
   "source": [
    "import matplotlib.pyplot as plt"
   ]
  },
  {
   "cell_type": "code",
   "execution_count": 88,
   "metadata": {},
   "outputs": [],
   "source": [
    "epochs = list(range(1, len(train_losses) + 1))"
   ]
  },
  {
   "cell_type": "code",
   "execution_count": 89,
   "metadata": {},
   "outputs": [
    {
     "data": {
      "image/png": "[encoded data removed]",
      "text/plain": [
       "<Figure size 800x500 with 1 Axes>"
      ]
     },
     "metadata": {},
     "output_type": "display_data"
    }
   ],
   "source": [
    "plt.figure(figsize=(8,5))\n",
    "plt.plot(epochs, train_losses, marker='o', label='Train Loss')\n",
    "plt.plot(epochs, val_losses,   marker='o', label='Val Loss')\n",
    "plt.xlabel(\"Epoch\")\n",
    "plt.ylabel(\"Loss\")\n",
    "plt.title(\"Train vs. Validation Loss over Epochs\")\n",
    "plt.legend()\n",
    "plt.grid(True)\n",
    "plt.show()"
   ]
  },
  {
   "cell_type": "code",
   "execution_count": 91,
   "metadata": {},
   "outputs": [
    {
     "name": "stdout",
     "output_type": "stream",
     "text": [
      "Collecting tabulate\n",
      "  Downloading tabulate-0.9.0-py3-none-any.whl (35 kB)\n",
      "Installing collected packages: tabulate\n",
      "Successfully installed tabulate-0.9.0\n"
     ]
    }
   ],
   "source": [
    "!pip install tabulate"
   ]
  },
  {
   "cell_type": "code",
   "execution_count": 5,
   "metadata": {},
   "outputs": [],
   "source": [
    "import pandas as pd\n",
    "from tabulate import tabulate"
   ]
  },
  {
   "cell_type": "code",
   "execution_count": 6,
   "metadata": {},
   "outputs": [],
   "source": [
    "with open(\"results.json\", \"r\", encoding=\"utf-8\") as f:\n",
    "    results = json.load(f)"
   ]
  },
  {
   "cell_type": "code",
   "execution_count": 7,
   "metadata": {},
   "outputs": [],
   "source": [
    "df = pd.DataFrame(results)"
   ]
  },
  {
   "cell_type": "code",
   "execution_count": 8,
   "metadata": {},
   "outputs": [],
   "source": [
    "rouge_df = df[\"rouge\"].apply(pd.Series)\n",
    "rouge_df.columns = [\"rouge1\", \"rouge2\", \"rougeL\"]"
   ]
  },
  {
   "cell_type": "code",
   "execution_count": 9,
   "metadata": {},
   "outputs": [],
   "source": [
    "df = pd.concat([df.drop(columns=[\"rouge\"]), rouge_df], axis=1)"
   ]
  },
  {
   "cell_type": "code",
   "execution_count": 10,
   "metadata": {},
   "outputs": [],
   "source": [
    "display_df = df[[\"epoch\", \"rouge1\", \"rouge2\", \"rougeL\"]]"
   ]
  },
  {
   "cell_type": "code",
   "execution_count": 12,
   "metadata": {},
   "outputs": [
    {
     "name": "stdout",
     "output_type": "stream",
     "text": [
      "+---------+----------+-----------+----------+\n",
      "|   epoch |   rouge1 |    rouge2 |   rougeL |\n",
      "|---------+----------+-----------+----------|\n",
      "|       5 | 0.271596 | 0.0710721 | 0.211202 |\n",
      "|      10 | 0.290982 | 0.0851596 | 0.226525 |\n",
      "|      15 | 0.300244 | 0.0915641 | 0.234104 |\n",
      "|      16 | 0.299387 | 0.0918897 | 0.232703 |\n",
      "|      17 | 0.300989 | 0.0920619 | 0.234134 |\n",
      "|      20 | 0.30415  | 0.0948534 | 0.236394 |\n",
      "|      25 | 0.305513 | 0.0959938 | 0.237651 |\n",
      "+---------+----------+-----------+----------+\n"
     ]
    }
   ],
   "source": [
    "print(tabulate(display_df, headers=\"keys\", tablefmt=\"psql\", showindex=False))"
   ]
  }
 ],
 "metadata": {
  "kaggle": {
   "accelerator": "nvidiaTeslaT4",
   "dataSources": [],
   "dockerImageVersionId": 31011,
   "isGpuEnabled": true,
   "isInternetEnabled": true,
   "language": "python",
   "sourceType": "notebook"
  },
  "kernelspec": {
   "display_name": "NLP",
   "language": "python",
   "name": "nlp"
  },
  "language_info": {
   "codemirror_mode": {
    "name": "ipython",
    "version": 3
   },
   "file_extension": ".py",
   "mimetype": "text/x-python",
   "name": "python",
   "nbconvert_exporter": "python",
   "pygments_lexer": "ipython3",
   "version": "3.13.1"
  }
 },
 "nbformat": 4,
 "nbformat_minor": 4
}
